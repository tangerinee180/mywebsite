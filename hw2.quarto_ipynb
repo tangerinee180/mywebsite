{
  "cells": [
    {
      "cell_type": "markdown",
      "metadata": {},
      "source": [
        "---\n",
        "title: \"Hw2\"\n",
        "jupyter: python3\n",
        "toc: false\n",
        "about: \n",
        "    id: hero-heading\n",
        "    template: jolla\n",
        "    image: duck.jpg\n",
        "    links: \n",
        "      - icon: github\n",
        "        text: Github\n",
        "        href: https://github.com/tangerinee180\n",
        "---\n",
        "\n",
        "\n",
        "\n",
        "\n",
        "### p144\n"
      ],
      "id": "c3408c29"
    },
    {
      "cell_type": "code",
      "metadata": {},
      "source": [
        "import pandas as pd\n",
        "import matplotlib.pyplot as plt \n",
        "import seaborn\n",
        "import numpy as np    \n",
        "\n",
        "mpg_raw = pd.read_csv(\"mpg.csv\")\n",
        "mpg = mpg_raw.copy()\n",
        "\n",
        "\n",
        "a4 = sum(mpg.query('displ <= 4')[\"hwy\"])/len(mpg.query('displ <= 4')[\"hwy\"])\n",
        "a4 = mpg.query('displ <= 4')[\"hwy\"].mean()\n",
        "b5 = sum(mpg.query('displ >= 5')[\"hwy\"])/len(mpg.query('displ >= 5')[\"hwy\"])\n",
        "if a4 > b5 :\n",
        "    print(\"배기량 4 이하 자동차가 고속도로 연비 평균이 높습니다.\")\n",
        "else :\n",
        "    print(\"배기량 5 이상 자동차가 고속도로 연비 평균이 높습니다.\")\n",
        "\n",
        "mpg.info\n",
        "audi_cty_mean = mpg.query('manufacturer == \"audi\"')[\"cty\"].mean()\n",
        "toyota_cty_mean = mpg.query('manufacturer == \"toyota\"')[\"cty\"].mean()\n",
        "if audi_cty_mean > toyota_cty_mean :\n",
        "    print(\"audi의 도시 연비 평균이 높습니다.\")\n",
        "else :\n",
        "    print(\"toyota의 도시 연비 평균이 높습니다.\")\n",
        "\n",
        "print(mpg.query('manufacturer in [\"chevorlet\",\"ford\",\"honda\"]')['hwy'].mean())\n"
      ],
      "id": "69080415",
      "execution_count": null,
      "outputs": []
    },
    {
      "cell_type": "markdown",
      "metadata": {},
      "source": [
        "### p153\n"
      ],
      "id": "75c90bdb"
    },
    {
      "cell_type": "code",
      "metadata": {},
      "source": [
        "import pandas as pd\n",
        "import numpy as np    \n",
        "\n",
        "mpg_raw = pd.read_csv(\"mpg.csv\")\n",
        "mpg = mpg_raw.copy()\n",
        "mpg[[\"category\",\"cty\"]]\n",
        "suv_cty_mean = mpg.query(\"category == 'suv'\")['cty'].mean()\n",
        "com_cty_mean = mpg.query(\"category == 'compact'\")['cty'].mean()\n",
        "\n",
        "if suv_cty_mean > com_cty_mean :\n",
        "    print(\"suv의 도시 연비 평균이 높습니다.\")\n",
        "else :\n",
        "    print(\"compact의 도시 연비 평균이 높습니다.\")"
      ],
      "id": "85c239e0",
      "execution_count": null,
      "outputs": []
    },
    {
      "cell_type": "markdown",
      "metadata": {},
      "source": [
        "### p158\n"
      ],
      "id": "bbf2c37a"
    },
    {
      "cell_type": "code",
      "metadata": {},
      "source": [
        "mpg_raw = pd.read_csv(\"mpg.csv\")\n",
        "mpg = mpg_raw.copy()\n",
        "mpg.assign(sum_ty = lambda x : x['cty'] + x[\"hwy\"],\n",
        "ave_ty = lambda x : x['sum_ty']/2).sort_values(\"ave_ty\",ascending=False).head(3)\n",
        "mpg = mpg.assign(sum_ty = lambda x : x['cty'] + x[\"hwy\"],\n",
        "ave_ty = lambda x : x['sum_ty']/2)\n",
        "\n",
        "mpg.sort_values(\"ave_ty\").head(3)"
      ],
      "id": "85e2bd39",
      "execution_count": null,
      "outputs": []
    }
  ],
  "metadata": {
    "kernelspec": {
      "name": "python3",
      "language": "python",
      "display_name": "Python 3 (ipykernel)",
      "path": "C:\\DS\\python\\Python312\\share\\jupyter\\kernels\\python3"
    }
  },
  "nbformat": 4,
  "nbformat_minor": 5
}